{
 "cells": [
  {
   "attachments": {},
   "cell_type": "markdown",
   "metadata": {
    "collapsed": true
   },
   "source": [
    "Algorithm for User bucketing for Joke Category.\n",
    "\n",
    "Approach:\n",
    "\n",
    "==================\n",
    "\n",
    "Steps:\n",
    "1.\tObtain the Joke categorized dataset\n",
    "2.\tRetrieve jokes for the specified category\n",
    "3.\tClassify/cluster user likes and dislikes for the specific jokes under specified category.\n",
    "4.\tShow users liking the jokes belonging to specified category.\n",
    "\n",
    "Training:\n",
    "Dataset is divided into 90% training and 10% testing data.\n",
    "1.\tUser likes and dislikes are decided from ratings.\n",
    "2.\tModel is trained for user likes and dislikes.\n",
    "3.\tClassification in 0:dislike, 1 :like is done using algorithms mentioned.\n",
    "4.\tFrom the results and categorization output, joke-category to user bucketing is done.\n",
    "\n",
    "Datasets used:\n",
    "These datasets are generated from Recommendation system and JOKE_categorization systems \n",
    "\n",
    "jester_dataset_2/joke_user_bucket_dataset.csv\n",
    "jester_dataset_2/joke_category_dataset.csv'\n",
    "\n",
    "\n",
    "RESULTS:\n",
    "    \n",
    "==================\n",
    "All buckets results are stored under buckets/'bucketname_user_bucket.txt'\n",
    "\n",
    "Accuracy Score2:\n",
    "\n",
    "Naïve Bayes\t1\n",
    "random Forest\t1\n",
    "Nearest Neighbor\t0.51427645\n",
    "K-Nearest Neighbor\t0.911012989\n",
    "\n",
    "Bucket Analysis:\n",
    "\n",
    "Naïve Bayes\t\t\t\t\n",
    "Total Number of Users for bucket: politics 5161\t\t\t\t\n",
    "Total Number of Users for bucket: animal 3159\t\t\t\t\n",
    "Total Number of Users for bucket: doctor 3036\t\t\t\t\n",
    "Total Number of Users for bucket: others 25020 \t\t\t\t\n",
    "KNN\t\t\t\t\n",
    "Total Number of Users for bucket: animal 3311\t\t\t\t\n",
    "Total Number of Users for bucket: politics 5503\t\t\t\t\n",
    "Total Number of Users for bucket: doctor 3197\t\t\t\t\n",
    "Total Number of Users for bucket: others 26425\t\t\t\t\n"
   ]
  },
  {
   "cell_type": "code",
   "execution_count": 3,
   "metadata": {
    "collapsed": true
   },
   "outputs": [],
   "source": [
    "import pandas as pd\n",
    "import numpy as np\n",
    "import scipy as sp\n",
    "\n",
    "from sklearn import svm\n",
    "from sklearn.neighbors.nearest_centroid import NearestCentroid\n",
    "from sklearn.neighbors import KNeighborsClassifier\n",
    "from sklearn.ensemble import RandomForestClassifier\n",
    "from sklearn.naive_bayes import GaussianNB\n",
    "\n",
    "from sklearn.metrics import accuracy_score\n",
    "from sklearn.metrics import mean_squared_error\n",
    "from sklearn.model_selection import train_test_split"
   ]
  },
  {
   "cell_type": "code",
   "execution_count": 4,
   "metadata": {
    "collapsed": true
   },
   "outputs": [],
   "source": [
    "\n",
    "def read_joke_user_likes_data():\n",
    "    data = pd.read_csv('jester_dataset_2/joke_user_bucket_dataset.csv')\n",
    "    data.head()\n",
    "    len(data)\n",
    "    return data"
   ]
  },
  {
   "cell_type": "code",
   "execution_count": 5,
   "metadata": {},
   "outputs": [
    {
     "name": "stdout",
     "output_type": "stream",
     "text": [
      "X total length: 1048575\n",
      "Y total length: 1048575\n"
     ]
    }
   ],
   "source": [
    "X = read_joke_user_likes_data()\n",
    "Y = X['likes']\n",
    "print(\"X total length:\",len(X))\n",
    "print(\"Y total length:\",len(Y))"
   ]
  },
  {
   "cell_type": "code",
   "execution_count": 6,
   "metadata": {},
   "outputs": [
    {
     "name": "stdout",
     "output_type": "stream",
     "text": [
      "X_train total length: 943717\n",
      "X_test total length: 104858\n",
      "Y_train total length: 943717\n"
     ]
    }
   ],
   "source": [
    "X_train, X_test, y_train, y_test = train_test_split(X, Y, test_size=0.10, random_state=99)\n",
    "\n",
    "print(\"X_train total length:\",len(X_train))\n",
    "print(\"X_test total length:\",len(X_test))\n",
    "print(\"Y_train total length:\",len(y_train))\n"
   ]
  },
  {
   "cell_type": "code",
   "execution_count": 7,
   "metadata": {
    "collapsed": true
   },
   "outputs": [],
   "source": [
    "model_nb = GaussianNB()\n",
    "model_svm = svm.SVC()\n",
    "model_rfc = RandomForestClassifier()\n",
    "model_knn_centroid = NearestCentroid()\n",
    "model_knn = KNeighborsClassifier()\n",
    "\n",
    "\n",
    "best_model = None\n",
    "best_accuracy = 0\n",
    "best_preds = None"
   ]
  },
  {
   "cell_type": "code",
   "execution_count": 8,
   "metadata": {},
   "outputs": [
    {
     "name": "stdout",
     "output_type": "stream",
     "text": [
      "Name:Navie Bayes\n",
      "Accuracy score:  1.0\n",
      "RMSE:  0.0\n"
     ]
    }
   ],
   "source": [
    "#navie bayes analysis\n",
    "model_nb.fit(X_train, y_train)\n",
    "preds = model_nb.predict(X_test)\n",
    "accuracy = accuracy_score(y_test, preds)\n",
    "rmse_nb = mean_squared_error(y_test, preds)\n",
    "if accuracy > best_accuracy:\n",
    "    best_accuracy = accuracy\n",
    "    best_model = model_nb\n",
    "    best_preds = preds\n",
    "\n",
    "print(\"Name:Navie Bayes\")\n",
    "print(\"Accuracy score: \", accuracy)\n",
    "print(\"RMSE: \", rmse_nb)"
   ]
  },
  {
   "cell_type": "code",
   "execution_count": 9,
   "metadata": {
    "collapsed": true
   },
   "outputs": [],
   "source": [
    "#svm analysis\n",
    "# model_svm.fit(X_train, y_train)\n",
    "# preds = model_svm.predict(X_test)\n",
    "# accuracy = accuracy_score(y_test, preds)\n",
    "# if accuracy > best_accuracy:\n",
    "#     best_accuracy = accuracy\n",
    "#     best_model = model_svm\n",
    "#     best_preds = preds\n",
    "    \n",
    "# print(\"Name:SVM\")\n",
    "# print(\"Accuracy score: \", accuracy)"
   ]
  },
  {
   "cell_type": "code",
   "execution_count": 13,
   "metadata": {},
   "outputs": [
    {
     "name": "stdout",
     "output_type": "stream",
     "text": [
      "Name:Random Forest\n",
      "Accuracy score:  1.0\n",
      "RMSE:  0.0\n"
     ]
    }
   ],
   "source": [
    "#Random Forest analysis\n",
    "model_rfc.fit(X_train, y_train)\n",
    "preds = model_rfc.predict(X_test)\n",
    "accuracy = accuracy_score(y_test, preds)\n",
    "rmse_rfc = mean_squared_error(y_test, preds)\n",
    "if accuracy > best_accuracy:\n",
    "    best_accuracy = accuracy\n",
    "    best_model = model_rfc\n",
    "    best_preds = preds\n",
    "    \n",
    "print(\"Name:Random Forest\")\n",
    "print(\"Accuracy score: \", accuracy)\n",
    "\n",
    "print(\"RMSE: \", rmse_rfc)"
   ]
  },
  {
   "cell_type": "code",
   "execution_count": 14,
   "metadata": {},
   "outputs": [
    {
     "name": "stdout",
     "output_type": "stream",
     "text": [
      "Name:Nearest Centroid\n",
      "Accuracy score:  0.514276450056\n",
      "RMSE:  0.485723549944\n"
     ]
    }
   ],
   "source": [
    "#nearest centrold analysis\n",
    "model_knn_centroid.fit(X_train, y_train)\n",
    "preds = model_knn_centroid.predict(X_test)\n",
    "accuracy = accuracy_score(y_test, preds)\n",
    "rmse_centroid = mean_squared_error(y_test, preds)\n",
    "if accuracy > best_accuracy:\n",
    "    best_accuracy = accuracy\n",
    "    best_model = model_knn_centroid\n",
    "    best_preds = preds\n",
    "    \n",
    "print(\"Name:Nearest Centroid\")\n",
    "print(\"Accuracy score: \", accuracy)\n",
    "print(\"RMSE: \", rmse_centroid)"
   ]
  },
  {
   "cell_type": "code",
   "execution_count": 15,
   "metadata": {},
   "outputs": [
    {
     "name": "stdout",
     "output_type": "stream",
     "text": [
      "Name:KNN \n",
      "Accuracy score:  0.911012988995\n",
      "RMSE:  0.0889870110054\n"
     ]
    }
   ],
   "source": [
    "#knn analysis\n",
    "model_knn.fit(X_train, y_train)\n",
    "preds = model_knn.predict(X_test)\n",
    "accuracy = accuracy_score(y_test, preds)\n",
    "rmse_knn = mean_squared_error(y_test, preds)\n",
    "if accuracy > best_accuracy:\n",
    "    best_accuracy = accuracy\n",
    "    best_model = model_knn\n",
    "    best_preds = preds\n",
    "    \n",
    "print(\"Name:KNN \")\n",
    "print(\"Accuracy score: \", accuracy)\n",
    "print(\"RMSE: \", rmse_knn)"
   ]
  },
  {
   "cell_type": "code",
   "execution_count": 16,
   "metadata": {},
   "outputs": [
    {
     "name": "stdout",
     "output_type": "stream",
     "text": [
      "Performance of models\n",
      "======================\n",
      "Best model: GaussianNB(priors=None)\n",
      "Best accuracy: 1.0\n",
      "Best predictions: [0 1 0 ..., 1 0 0]\n"
     ]
    }
   ],
   "source": [
    "print(\"Performance of models\")\n",
    "print(\"======================\")\n",
    "\n",
    "print(\"Best model:\",best_model)\n",
    "print(\"Best accuracy:\",best_accuracy)\n",
    "print(\"Best predictions:\",best_preds)"
   ]
  },
  {
   "cell_type": "code",
   "execution_count": 17,
   "metadata": {},
   "outputs": [
    {
     "data": {
      "text/html": [
       "<div>\n",
       "<style>\n",
       "    .dataframe thead tr:only-child th {\n",
       "        text-align: right;\n",
       "    }\n",
       "\n",
       "    .dataframe thead th {\n",
       "        text-align: left;\n",
       "    }\n",
       "\n",
       "    .dataframe tbody tr th {\n",
       "        vertical-align: top;\n",
       "    }\n",
       "</style>\n",
       "<table border=\"1\" class=\"dataframe\">\n",
       "  <thead>\n",
       "    <tr style=\"text-align: right;\">\n",
       "      <th></th>\n",
       "      <th>user_id</th>\n",
       "      <th>joke_id</th>\n",
       "      <th>likes</th>\n",
       "    </tr>\n",
       "  </thead>\n",
       "  <tbody>\n",
       "    <tr>\n",
       "      <th>787146</th>\n",
       "      <td>29962</td>\n",
       "      <td>16</td>\n",
       "      <td>0</td>\n",
       "    </tr>\n",
       "    <tr>\n",
       "      <th>618543</th>\n",
       "      <td>41622</td>\n",
       "      <td>121</td>\n",
       "      <td>1</td>\n",
       "    </tr>\n",
       "    <tr>\n",
       "      <th>228797</th>\n",
       "      <td>16211</td>\n",
       "      <td>89</td>\n",
       "      <td>0</td>\n",
       "    </tr>\n",
       "    <tr>\n",
       "      <th>193161</th>\n",
       "      <td>19616</td>\n",
       "      <td>59</td>\n",
       "      <td>0</td>\n",
       "    </tr>\n",
       "    <tr>\n",
       "      <th>537285</th>\n",
       "      <td>18305</td>\n",
       "      <td>19</td>\n",
       "      <td>0</td>\n",
       "    </tr>\n",
       "  </tbody>\n",
       "</table>\n",
       "</div>"
      ],
      "text/plain": [
       "        user_id  joke_id  likes\n",
       "787146    29962       16      0\n",
       "618543    41622      121      1\n",
       "228797    16211       89      0\n",
       "193161    19616       59      0\n",
       "537285    18305       19      0"
      ]
     },
     "execution_count": 17,
     "metadata": {},
     "output_type": "execute_result"
    }
   ],
   "source": [
    "output = pd.DataFrame()\n",
    "output = pd.concat([output, X_test['user_id']], axis=1)\n",
    "output['joke_id'] = X_test['joke_id']\n",
    "output['likes'] = best_preds\n",
    "\n",
    "output.head()"
   ]
  },
  {
   "cell_type": "code",
   "execution_count": 18,
   "metadata": {},
   "outputs": [],
   "source": [
    "joke_category_data = pd.read_csv('jester_dataset_2/joke_category_dataset.csv')\n",
    "joke_category_data.head()\n",
    "len(joke_category_data)\n",
    "joke_category_data = joke_category_data.drop('joke_category', 1)"
   ]
  },
  {
   "cell_type": "code",
   "execution_count": 19,
   "metadata": {},
   "outputs": [
    {
     "data": {
      "text/html": [
       "<div>\n",
       "<style>\n",
       "    .dataframe thead tr:only-child th {\n",
       "        text-align: right;\n",
       "    }\n",
       "\n",
       "    .dataframe thead th {\n",
       "        text-align: left;\n",
       "    }\n",
       "\n",
       "    .dataframe tbody tr th {\n",
       "        vertical-align: top;\n",
       "    }\n",
       "</style>\n",
       "<table border=\"1\" class=\"dataframe\">\n",
       "  <thead>\n",
       "    <tr style=\"text-align: right;\">\n",
       "      <th></th>\n",
       "      <th>joke_id</th>\n",
       "      <th>joke_category_reduced</th>\n",
       "      <th>user_id</th>\n",
       "      <th>likes</th>\n",
       "    </tr>\n",
       "  </thead>\n",
       "  <tbody>\n",
       "    <tr>\n",
       "      <th>0</th>\n",
       "      <td>1</td>\n",
       "      <td>doctor</td>\n",
       "      <td>19091</td>\n",
       "      <td>1</td>\n",
       "    </tr>\n",
       "    <tr>\n",
       "      <th>1</th>\n",
       "      <td>1</td>\n",
       "      <td>doctor</td>\n",
       "      <td>45460</td>\n",
       "      <td>1</td>\n",
       "    </tr>\n",
       "    <tr>\n",
       "      <th>2</th>\n",
       "      <td>1</td>\n",
       "      <td>doctor</td>\n",
       "      <td>44250</td>\n",
       "      <td>1</td>\n",
       "    </tr>\n",
       "    <tr>\n",
       "      <th>3</th>\n",
       "      <td>1</td>\n",
       "      <td>doctor</td>\n",
       "      <td>18022</td>\n",
       "      <td>1</td>\n",
       "    </tr>\n",
       "    <tr>\n",
       "      <th>4</th>\n",
       "      <td>1</td>\n",
       "      <td>doctor</td>\n",
       "      <td>14443</td>\n",
       "      <td>1</td>\n",
       "    </tr>\n",
       "  </tbody>\n",
       "</table>\n",
       "</div>"
      ],
      "text/plain": [
       "   joke_id joke_category_reduced  user_id  likes\n",
       "0        1                doctor    19091      1\n",
       "1        1                doctor    45460      1\n",
       "2        1                doctor    44250      1\n",
       "3        1                doctor    18022      1\n",
       "4        1                doctor    14443      1"
      ]
     },
     "execution_count": 19,
     "metadata": {},
     "output_type": "execute_result"
    }
   ],
   "source": [
    "result = pd.merge(joke_category_data, output, how='right', on='joke_id')\n",
    "result.head()"
   ]
  },
  {
   "cell_type": "code",
   "execution_count": 20,
   "metadata": {},
   "outputs": [
    {
     "data": {
      "text/plain": [
       "104858"
      ]
     },
     "execution_count": 20,
     "metadata": {},
     "output_type": "execute_result"
    }
   ],
   "source": [
    "len(result)"
   ]
  },
  {
   "cell_type": "code",
   "execution_count": 23,
   "metadata": {},
   "outputs": [
    {
     "name": "stdout",
     "output_type": "stream",
     "text": [
      " Total Number of Users for bucket: politics 5161\n",
      " Total Users\n",
      "============\n"
     ]
    },
    {
     "data": {
      "text/plain": [
       "712        388\n",
       "714        333\n",
       "724        270\n",
       "728        376\n",
       "730        504\n",
       "735         43\n",
       "737         68\n",
       "738        264\n",
       "739        167\n",
       "742        425\n",
       "27693    30677\n",
       "27694     4131\n",
       "27696    37969\n",
       "27697    30751\n",
       "27698    13327\n",
       "27699    50037\n",
       "27700    28867\n",
       "27701    41514\n",
       "27703     5731\n",
       "27704    47179\n",
       "27705    36144\n",
       "27706    29268\n",
       "27707    43926\n",
       "27708    28903\n",
       "27709    29289\n",
       "27710    42355\n",
       "27711     4164\n",
       "27712    41670\n",
       "27715    25820\n",
       "27716    47039\n",
       "         ...  \n",
       "96405    27387\n",
       "96406    14814\n",
       "96409    37383\n",
       "96410    34872\n",
       "96411     1020\n",
       "96412    36751\n",
       "96413    29076\n",
       "96414    42338\n",
       "96415    31916\n",
       "96416    45306\n",
       "96417    30515\n",
       "96419    44461\n",
       "96421    15337\n",
       "96422    29593\n",
       "96424    12194\n",
       "96425    26702\n",
       "96427    25530\n",
       "96429    37526\n",
       "96430     2289\n",
       "96433    28923\n",
       "96434    13684\n",
       "96435    25264\n",
       "96436    29817\n",
       "96442    47928\n",
       "96443     1109\n",
       "96444    47283\n",
       "96446    26345\n",
       "96450    33442\n",
       "96456     4238\n",
       "96457    15040\n",
       "Name: user_id, Length: 5161, dtype: int64"
      ]
     },
     "execution_count": 23,
     "metadata": {},
     "output_type": "execute_result"
    }
   ],
   "source": [
    "bucket_name = 'politics'\n",
    "bucket = result.loc[(result['likes'] == 1) & (result['joke_category_reduced'] == bucket_name)]\n",
    "print(\" Total Number of Users for bucket:\", bucket_name,len(bucket))\n",
    "print(\" Total Users\")\n",
    "print(\"============\")\n",
    "bucket['user_id']"
   ]
  },
  {
   "cell_type": "code",
   "execution_count": 24,
   "metadata": {},
   "outputs": [
    {
     "name": "stdout",
     "output_type": "stream",
     "text": [
      "buckets/politics_user_bucket.txt\n"
     ]
    }
   ],
   "source": [
    "def writePredictions(bucket,bucketname):    \n",
    "    filename = \"buckets/\" + bucketname + \"_user_bucket.txt\"\n",
    "    print(filename)\n",
    "    np.savetxt(filename, bucket.values, header=\"joke_id joke_category user_id likes\", fmt='%s' , delimiter=\"\\t\" )\n",
    "\n",
    "writePredictions(bucket,bucket_name)       "
   ]
  },
  {
   "cell_type": "code",
   "execution_count": null,
   "metadata": {
    "collapsed": true
   },
   "outputs": [],
   "source": []
  }
 ],
 "metadata": {
  "kernelspec": {
   "display_name": "Python 3",
   "language": "python",
   "name": "python3"
  },
  "language_info": {
   "codemirror_mode": {
    "name": "ipython",
    "version": 3
   },
   "file_extension": ".py",
   "mimetype": "text/x-python",
   "name": "python",
   "nbconvert_exporter": "python",
   "pygments_lexer": "ipython3",
   "version": "3.6.1"
  }
 },
 "nbformat": 4,
 "nbformat_minor": 2
}
