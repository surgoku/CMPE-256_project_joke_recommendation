{
 "cells": [
  {
   "cell_type": "code",
   "execution_count": 1,
   "metadata": {
    "collapsed": true
   },
   "outputs": [],
   "source": [
    "import pandas as pd\n",
    "import numpy as np\n",
    "import scipy as sp\n",
    "\n",
    "from sklearn import svm\n",
    "from sklearn.neighbors.nearest_centroid import NearestCentroid\n",
    "from sklearn.neighbors import KNeighborsClassifier\n",
    "from sklearn.ensemble import RandomForestClassifier\n",
    "from sklearn.naive_bayes import GaussianNB\n",
    "\n",
    "from sklearn.metrics import accuracy_score\n",
    "from sklearn.model_selection import train_test_split"
   ]
  },
  {
   "cell_type": "code",
   "execution_count": 2,
   "metadata": {
    "collapsed": true
   },
   "outputs": [],
   "source": [
    "\n",
    "def read_joke_user_likes_data():\n",
    "    data = pd.read_csv('jester_dataset_2/joke_user_bucket_dataset.csv')\n",
    "    data.head()\n",
    "    len(data)\n",
    "    return data"
   ]
  },
  {
   "cell_type": "code",
   "execution_count": 3,
   "metadata": {},
   "outputs": [
    {
     "name": "stdout",
     "output_type": "stream",
     "text": [
      "X total length: 1048575\n",
      "Y total length: 1048575\n"
     ]
    }
   ],
   "source": [
    "X = read_joke_user_likes_data()\n",
    "Y = X['likes']\n",
    "print(\"X total length:\",len(X))\n",
    "print(\"Y total length:\",len(Y))"
   ]
  },
  {
   "cell_type": "code",
   "execution_count": 4,
   "metadata": {},
   "outputs": [
    {
     "name": "stdout",
     "output_type": "stream",
     "text": [
      "X_train total length: 943717\n",
      "X_test total length: 104858\n",
      "Y_train total length: 943717\n"
     ]
    }
   ],
   "source": [
    "X_train, X_test, y_train, y_test = train_test_split(X, Y, test_size=0.10, random_state=99)\n",
    "\n",
    "print(\"X_train total length:\",len(X_train))\n",
    "print(\"X_test total length:\",len(X_test))\n",
    "print(\"Y_train total length:\",len(y_train))\n"
   ]
  },
  {
   "cell_type": "code",
   "execution_count": 5,
   "metadata": {
    "collapsed": true
   },
   "outputs": [],
   "source": [
    "model_nb = GaussianNB()\n",
    "model_svm = svm.SVC()\n",
    "model_rfc = RandomForestClassifier()\n",
    "model_knn_centroid = NearestCentroid()\n",
    "model_knn = KNeighborsClassifier()\n",
    "\n",
    "\n",
    "best_model = None\n",
    "best_accuracy = 0\n",
    "best_preds = None"
   ]
  },
  {
   "cell_type": "code",
   "execution_count": 6,
   "metadata": {},
   "outputs": [
    {
     "name": "stdout",
     "output_type": "stream",
     "text": [
      "Name:Navie Bayes\n",
      "Accuracy score:  1.0\n"
     ]
    }
   ],
   "source": [
    "#navie bayes analysis\n",
    "model_nb.fit(X_train, y_train)\n",
    "preds = model_nb.predict(X_test)\n",
    "accuracy = accuracy_score(y_test, preds)\n",
    "if accuracy > best_accuracy:\n",
    "    best_accuracy = accuracy\n",
    "    best_model = model_nb\n",
    "    best_preds = preds\n",
    "\n",
    "print(\"Name:Navie Bayes\")\n",
    "print(\"Accuracy score: \", accuracy)\n",
    "    "
   ]
  },
  {
   "cell_type": "code",
   "execution_count": 7,
   "metadata": {
    "collapsed": true
   },
   "outputs": [],
   "source": [
    "#svm analysis\n",
    "# model_svm.fit(X_train, y_train)\n",
    "# preds = model_svm.predict(X_test)\n",
    "# accuracy = accuracy_score(y_test, preds)\n",
    "# if accuracy > best_accuracy:\n",
    "#     best_accuracy = accuracy\n",
    "#     best_model = model_svm\n",
    "#     best_preds = preds\n",
    "    \n",
    "# print(\"Name:SVM\")\n",
    "# print(\"Accuracy score: \", accuracy)"
   ]
  },
  {
   "cell_type": "code",
   "execution_count": 8,
   "metadata": {},
   "outputs": [
    {
     "name": "stdout",
     "output_type": "stream",
     "text": [
      "Name:Random Forest\n",
      "Accuracy score:  1.0\n"
     ]
    }
   ],
   "source": [
    "#Random Forest analysis\n",
    "model_rfc.fit(X_train, y_train)\n",
    "preds = model_rfc.predict(X_test)\n",
    "accuracy = accuracy_score(y_test, preds)\n",
    "if accuracy > best_accuracy:\n",
    "    best_accuracy = accuracy\n",
    "    best_model = model_rfc\n",
    "    best_preds = preds\n",
    "    \n",
    "print(\"Name:Random Forest\")\n",
    "print(\"Accuracy score: \", accuracy)"
   ]
  },
  {
   "cell_type": "code",
   "execution_count": 9,
   "metadata": {},
   "outputs": [
    {
     "name": "stdout",
     "output_type": "stream",
     "text": [
      "Name:Nearest Centroid\n",
      "Accuracy score:  0.514276450056\n"
     ]
    }
   ],
   "source": [
    "#nearest centrold analysis\n",
    "model_knn_centroid.fit(X_train, y_train)\n",
    "preds = model_knn_centroid.predict(X_test)\n",
    "accuracy = accuracy_score(y_test, preds)\n",
    "if accuracy > best_accuracy:\n",
    "    best_accuracy = accuracy\n",
    "    best_model = model_knn_centroid\n",
    "    best_preds = preds\n",
    "    \n",
    "print(\"Name:Nearest Centroid\")\n",
    "print(\"Accuracy score: \", accuracy)"
   ]
  },
  {
   "cell_type": "code",
   "execution_count": 10,
   "metadata": {},
   "outputs": [
    {
     "name": "stdout",
     "output_type": "stream",
     "text": [
      "Name:KNN \n",
      "Accuracy score:  0.911012988995\n"
     ]
    }
   ],
   "source": [
    "#knn analysis\n",
    "model_knn.fit(X_train, y_train)\n",
    "preds = model_knn.predict(X_test)\n",
    "accuracy = accuracy_score(y_test, preds)\n",
    "if accuracy > best_accuracy:\n",
    "    best_accuracy = accuracy\n",
    "    best_model = model_knn\n",
    "    best_preds = preds\n",
    "    \n",
    "print(\"Name:KNN \")\n",
    "print(\"Accuracy score: \", accuracy)"
   ]
  },
  {
   "cell_type": "code",
   "execution_count": 11,
   "metadata": {},
   "outputs": [
    {
     "name": "stdout",
     "output_type": "stream",
     "text": [
      "Performance of models\n",
      "======================\n",
      "Best model: GaussianNB(priors=None)\n",
      "Best accuracy: 1.0\n",
      "Best predictions: [0 1 0 ..., 1 0 0]\n"
     ]
    }
   ],
   "source": [
    "print(\"Performance of models\")\n",
    "print(\"======================\")\n",
    "\n",
    "print(\"Best model:\",best_model)\n",
    "print(\"Best accuracy:\",best_accuracy)\n",
    "print(\"Best predictions:\",best_preds)"
   ]
  },
  {
   "cell_type": "code",
   "execution_count": 18,
   "metadata": {},
   "outputs": [
    {
     "data": {
      "text/plain": [
       "150"
      ]
     },
     "execution_count": 18,
     "metadata": {},
     "output_type": "execute_result"
    }
   ],
   "source": [
    "joke_category_data = pd.read_csv('jester_dataset_2/joke_category_dataset.csv')\n",
    "joke_category_data.head()\n",
    "len(joke_category_data)"
   ]
  },
  {
   "cell_type": "code",
   "execution_count": null,
   "metadata": {
    "collapsed": true
   },
   "outputs": [],
   "source": []
  }
 ],
 "metadata": {
  "kernelspec": {
   "display_name": "Python 3",
   "language": "python",
   "name": "python3"
  },
  "language_info": {
   "codemirror_mode": {
    "name": "ipython",
    "version": 3
   },
   "file_extension": ".py",
   "mimetype": "text/x-python",
   "name": "python",
   "nbconvert_exporter": "python",
   "pygments_lexer": "ipython3",
   "version": "3.6.1"
  }
 },
 "nbformat": 4,
 "nbformat_minor": 2
}
